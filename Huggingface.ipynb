{
 "cells": [
  {
   "cell_type": "code",
   "execution_count": 1,
   "id": "97cfd8e9",
   "metadata": {},
   "outputs": [
    {
     "name": "stderr",
     "output_type": "stream",
     "text": [
      "C:\\Users\\rutvi\\anaconda3\\lib\\site-packages\\scipy\\__init__.py:146: UserWarning: A NumPy version >=1.16.5 and <1.23.0 is required for this version of SciPy (detected version 1.26.3\n",
      "  warnings.warn(f\"A NumPy version >={np_minversion} and <{np_maxversion}\"\n"
     ]
    },
    {
     "data": {
      "application/vnd.jupyter.widget-view+json": {
       "model_id": "e4d0d4d9e97a449a92bed195c201e9b4",
       "version_major": 2,
       "version_minor": 0
      },
      "text/plain": [
       "config.json:   0%|          | 0.00/1.66k [00:00<?, ?B/s]"
      ]
     },
     "metadata": {},
     "output_type": "display_data"
    },
    {
     "name": "stderr",
     "output_type": "stream",
     "text": [
      "C:\\Users\\rutvi\\anaconda3\\lib\\site-packages\\huggingface_hub\\file_download.py:149: UserWarning: `huggingface_hub` cache-system uses symlinks by default to efficiently store duplicated files but your machine does not support them in C:\\Users\\rutvi\\.cache\\huggingface\\hub\\models--Qiliang--bart-large-cnn-samsum-ChatGPT_v3. Caching files will still work but in a degraded version that might require more space on your disk. This warning can be disabled by setting the `HF_HUB_DISABLE_SYMLINKS_WARNING` environment variable. For more details, see https://huggingface.co/docs/huggingface_hub/how-to-cache#limitations.\n",
      "To support symlinks on Windows, you either need to activate Developer Mode or to run Python as an administrator. In order to see activate developer mode, see this article: https://docs.microsoft.com/en-us/windows/apps/get-started/enable-your-device-for-development\n",
      "  warnings.warn(message)\n"
     ]
    },
    {
     "data": {
      "application/vnd.jupyter.widget-view+json": {
       "model_id": "1f56786a172448d7849ca1d534168003",
       "version_major": 2,
       "version_minor": 0
      },
      "text/plain": [
       "pytorch_model.bin:   0%|          | 0.00/1.63G [00:00<?, ?B/s]"
      ]
     },
     "metadata": {},
     "output_type": "display_data"
    },
    {
     "data": {
      "application/vnd.jupyter.widget-view+json": {
       "model_id": "9fbb66fdc3d5429e90f2003050c59bbd",
       "version_major": 2,
       "version_minor": 0
      },
      "text/plain": [
       "tokenizer_config.json:   0%|          | 0.00/1.38k [00:00<?, ?B/s]"
      ]
     },
     "metadata": {},
     "output_type": "display_data"
    },
    {
     "data": {
      "application/vnd.jupyter.widget-view+json": {
       "model_id": "94993e553d444945ba7494255e06bedd",
       "version_major": 2,
       "version_minor": 0
      },
      "text/plain": [
       "vocab.json:   0%|          | 0.00/798k [00:00<?, ?B/s]"
      ]
     },
     "metadata": {},
     "output_type": "display_data"
    },
    {
     "data": {
      "application/vnd.jupyter.widget-view+json": {
       "model_id": "478a22e440c1421fb0af41cfb4876756",
       "version_major": 2,
       "version_minor": 0
      },
      "text/plain": [
       "merges.txt:   0%|          | 0.00/456k [00:00<?, ?B/s]"
      ]
     },
     "metadata": {},
     "output_type": "display_data"
    },
    {
     "data": {
      "application/vnd.jupyter.widget-view+json": {
       "model_id": "9ba3a0cc46584c74ad250698d4527069",
       "version_major": 2,
       "version_minor": 0
      },
      "text/plain": [
       "tokenizer.json:   0%|          | 0.00/2.11M [00:00<?, ?B/s]"
      ]
     },
     "metadata": {},
     "output_type": "display_data"
    },
    {
     "data": {
      "application/vnd.jupyter.widget-view+json": {
       "model_id": "375a47d5818f4d54b727195331eace36",
       "version_major": 2,
       "version_minor": 0
      },
      "text/plain": [
       "special_tokens_map.json:   0%|          | 0.00/280 [00:00<?, ?B/s]"
      ]
     },
     "metadata": {},
     "output_type": "display_data"
    }
   ],
   "source": [
    "#We have tried with multiple open source LLM models and we found this model=\"Qiliang/bart-large-cnn-samsum-ChatGPT_v3\" is best from huggingface. We tried with multiple model, but some of them are not able to understand code.\n",
    "#This is open source, unlike we need to pay for GPT key.\n",
    "#Langchain can work with any open source LLM model.\n",
    "\n",
    "# Use a pipeline as a high-level helper\n",
    "from transformers import pipeline\n",
    "\n",
    "pipe = pipeline(\"text2text-generation\", model=\"Qiliang/bart-large-cnn-samsum-ChatGPT_v3\")"
   ]
  },
  {
   "cell_type": "code",
   "execution_count": 2,
   "id": "de7031f9",
   "metadata": {},
   "outputs": [],
   "source": [
    "# Load model directly\n",
    "from transformers import AutoTokenizer, AutoModelForSeq2SeqLM\n",
    "\n",
    "tokenizer = AutoTokenizer.from_pretrained(\"Qiliang/bart-large-cnn-samsum-ChatGPT_v3\")\n",
    "model = AutoModelForSeq2SeqLM.from_pretrained(\"Qiliang/bart-large-cnn-samsum-ChatGPT_v3\")"
   ]
  },
  {
   "cell_type": "code",
   "execution_count": 3,
   "id": "2c7eeba5",
   "metadata": {},
   "outputs": [],
   "source": [
    "folder_path = \"C:\\\\Users\\\\rutvi\\\\Downloads\\\\ff\""
   ]
  },
  {
   "cell_type": "code",
   "execution_count": 5,
   "id": "6aab4747",
   "metadata": {},
   "outputs": [],
   "source": [
    "import os"
   ]
  },
  {
   "cell_type": "code",
   "execution_count": 6,
   "id": "8dfb40d7",
   "metadata": {},
   "outputs": [],
   "source": [
    "file_names = [f for f in os.listdir(folder_path) if os.path.isfile(os.path.join(folder_path, f))]"
   ]
  },
  {
   "cell_type": "code",
   "execution_count": 7,
   "id": "14a58496",
   "metadata": {},
   "outputs": [
    {
     "name": "stdout",
     "output_type": "stream",
     "text": [
      "File: 962231.txt\n",
      "Summary: The call throws an IllegalAuthenticationException. The caller is trying to authenticate with the Manager. The call returns a trace and the caller is unable to do so. The problem has been resolved and is not related to the call's intended purpose. The user has not been authenticated.\n",
      "--------------------------------------------------\n",
      "File: 9773879.txt\n",
      "Summary: The code decodes the incoming line. The code is broken into two parts: a string key and a string value. The value of the string key is the key's position and the other is the value of its parent string, called the cookie header. The cookie header is decoded into a string.\n",
      "--------------------------------------------------\n",
      "File: 9795137.txt\n",
      "Summary: The public isPageComplete function returns false if the text field is not filled in properly or true if it is. The function also sets the completed field on the wizard class when all the information is filled in. The code is available in C# and C# languages.\n",
      "--------------------------------------------------\n",
      "File: 9795348.txt\n",
      "Summary: The text text is a public void with a text editor. The editor is deactivating. The text editor is a new GC with a new table and a row and a color cell. It is intended to display the text editor's text on a black screen.\n",
      "--------------------------------------------------\n",
      "File: 9795638.txt\n",
      "Summary: The code adds nodes to the graph object for use by the graph layout manager. The nodes are added to the tablePart by adding a node to the node list. The node's width and height are set to 400 and 300 respectively. The padding is set to 10 and 12 nodes.\n",
      "--------------------------------------------------\n",
      "File: 9834260.txt\n",
      "Summary: The text is a public function that returns a string with the source name of the caller. The source name is used by the closure system to relate a closure to the caller's source name. The caller is provided with a context and a class name. It is possible to use the context as well as the class name in this function.\n",
      "--------------------------------------------------\n",
      "File: 9834278.txt\n",
      "Summary: The protected URL getRelativePath function returns an error if the URL is not resolved. The error is due to a default resolution of the factory reference. The function returns a response with the URL and a text field for the user to use. The text field is a representation of the default resolution.\n",
      "--------------------------------------------------\n",
      "File: 9834431.txt\n",
      "Summary: The code in this example searches for Gracelet components in the constructor. It throws an exception if it does not find a component for each application. The error is caused by the search for the component's implementation in the classpath. The caller then receives a message from the caller.\n",
      "--------------------------------------------------\n",
      "File: 9834455.txt\n",
      "Summary: This.controller is being used to initialize the controller for a Gracelet application. It is not available for this application at the time of writing if the controllers have not been initialized. The code below describes how the controller is used to Initialize the controllers for the application.\n",
      "--------------------------------------------------\n",
      "File: 9834531.txt\n",
      "Summary: This.libraries is a class library for the DynamicCompositeTagLibrary application. It is created by compiling a library for a class named \"Clazz\" from a URL. If a component library is not created, the application will not be able to use it.\n",
      "--------------------------------------------------\n",
      "File: 9834800.txt\n",
      "Summary: The text describes a public void that executes the page level after phase closures. The code is broken into two parts: before and after phases. The after phase closure is called if the phase name is not specified. The before phase closure uses the PhaseId to identify the phase and the After phase closure calls the PhaseType to close the phase.\n",
      "--------------------------------------------------\n",
      "File: 9834828.txt\n",
      "Summary: This is a public void that is used by the C#interceptor to initialize the code and create a navigation rule set. It is called by the compiler in order to do so. The function is called if the user does not provide a null value to the constructor.\n",
      "--------------------------------------------------\n",
      "File: 9842463.txt\n",
      "Summary: The text text is about a public void that allows the user to print an object to the current element. The exception throws a new IllegalArgumentException if the text does not appear on the current object. The text also states that the text cannot be printed on this object.\n",
      "--------------------------------------------------\n",
      "File: 9842674.txt\n",
      "Summary: The code is a public void associate involving a GroovyBuilder, ObjectFactoryInterceptor, and a child. If the child does not have a method called addChild, the parent does not. The code then invokes the parent's method to add the child.\n",
      "--------------------------------------------------\n",
      "File: 9842688.txt\n",
      "Summary: The code is a public void with a method named apply. If the method is called, it will apply attributes to a given object. If it does not, the method does not apply the attribute. The result is a check to see if there is an instance of the object involved.\n",
      "--------------------------------------------------\n",
      "File: 9845319.txt\n",
      "Summary: The class gets a compile function that attempts to detect changes in the source code and attempts to recompile it if necessary. It also throws an exception if the code does not work properly. The error is caused by the fact that the code has not been compiled properly.\n",
      "--------------------------------------------------\n",
      "File: 9846891.txt\n",
      "Summary: The code is not yet fully implemented. It allows the user to control a class using a text field. The text field is a String with a property property associated with the class. The property property can be null or has a null value depending on the condition that the property is not null.\n",
      "--------------------------------------------------\n",
      "File: 9846957.txt\n",
      "Summary: The text is a public void that allows a closure to produce build time source code for a GraceletBuilderBuilderSource. The code is called include (Closure closure) and it produces a new ContextClosure instance with a reference to the source code of the closure.\n",
      "--------------------------------------------------\n",
      "File: 9846969.txt\n",
      "Summary: The text is a public void that prints a text to a text file. The text file is written by the writer of the text file and then printed by the printer. The error occurs if the writer does not have a specific text file for the text it is writing to.\n",
      "--------------------------------------------------\n",
      "File: 9847617.txt\n",
      "Summary: The text describes a method for rendering children. The method throws an error if the child is not rendered. The error is due to the fact that the child's UIComponent is not being rendered.    The method also provides a facility for rendering the children.\n",
      "--------------------------------------------------\n",
      "File: 9915507.txt\n",
      "Summary: The public void setRootId throws a new SQLException. The result set is updated and the root node is set to the index root node's name. The lock is either closed or not writable, depending on the outcome of the operation. The code also sets the id of the index node to its root node.\n",
      "--------------------------------------------------\n",
      "File: 9915601.txt\n",
      "Summary: The from clause constructs the from clause for a feature type. The text is a public void with the text \"From (StringBuffer, String typeName)\", where typeName is the text type and the text is an instance of the HATBoxFilterToSQL encoder.\n",
      "--------------------------------------------------\n",
      "File: 9924358.txt\n",
      "Summary: The code attempts to extract the country name of a string array from the String whois. It returns a null if the string does not have a country name. The code also attempts to reduce the length of the string to a lower case letter. The result is a string with the name of the country.\n",
      "--------------------------------------------------\n",
      "File: 9924435.txt\n",
      "Summary: The text is localized for the specific locale. The text is returned to the caller as a text file with a format string. The message is a text message with a location-specific text field. The error message is returned if the text does not have a specific location or has a missing field.\n",
      "--------------------------------------------------\n",
      "File: 9924438.txt\n",
      "Summary: The code returns the pattern of a given position in a text file. It also returns a null if the field does not have a field or a size. The text file is called a FileField Pattern At(long pos, long size, int i) and has a field size of 0.\n",
      "--------------------------------------------------\n",
      "File: 9924450.txt\n",
      "Summary: The code compares a temporary buffer read from disk to a pattern in order to compare the two data types. The result is returned if the difference is not greater than or equal to zero. The code is called compare(byte[] tempBuffer, byte[] pattern).\n",
      "--------------------------------------------------\n",
      "File: 9924462.txt\n",
      "Summary: The protected void paintLogo(Graphics g) is used to paint an icon on the screen. The text is broken into three parts: the logo, the width and the height, and the image of the logo itself. It is possible to paint the logo with different colors depending on the color of the icon.\n",
      "--------------------------------------------------\n",
      "File: 9924467.txt\n",
      "Summary: The code centers a protected void center(Component cmp) with a window and a frame. The window has a screen size of 2x2x2 pixels. The frame has a height and a width of 1.5x1.5 pixels, and the screen height and width are equal to the frame's width and height respectively.\n",
      "--------------------------------------------------\n",
      "File: 9977798.txt\n",
      "Summary: The method initializes the vertical splitter on a JSplitPane and sets the top and bottom components for the splitter. The method is called getVerticalSplitPane() and returns a window with the vertical splitpane on the top corner and the bottom corner on the bottom.\n",
      "--------------------------------------------------\n",
      "File: 9985738.txt\n",
      "Summary: The code performs a cascading cut operation on a Node y and a parent node. If the parent node is not marked, the child node is cut from the parent, and if it is marked, it is also cut from its parent. The code is called cascadingCut( node y, node z).\n",
      "--------------------------------------------------\n",
      "File: 9999950.txt\n",
      "Summary: The function aborts a running countdown and the server continues normal operation. The warning is triggered by the shutdown of the server. The announcement to the user confirms that the shutdown has been stopped and the function has been called aborting. The error message is displayed on the screen.\n",
      "--------------------------------------------------\n"
     ]
    }
   ],
   "source": [
    "for file_name in file_names:\n",
    "    # Read the contents of the file\n",
    "    with open(os.path.join(folder_path, file_name), 'r') as file:\n",
    "        code = file.read()\n",
    "\n",
    "    # Tokenize the code\n",
    "    inputs = tokenizer([code], max_length=1024, return_tensors='pt', truncation=True)\n",
    "\n",
    "    # Generate summary\n",
    "    summary_ids = model.generate(inputs['input_ids'], num_beams=4, max_length=100, early_stopping=True)\n",
    "\n",
    "    # Decode and print the summary\n",
    "    summary = tokenizer.decode(summary_ids[0], skip_special_tokens=True)\n",
    "    \n",
    "    print(f\"File: {file_name}\")\n",
    "    print(f\"Summary: {summary}\")\n",
    "    print(\"-\" * 50)"
   ]
  }
 ],
 "metadata": {
  "kernelspec": {
   "display_name": "Python 3 (ipykernel)",
   "language": "python",
   "name": "python3"
  },
  "language_info": {
   "codemirror_mode": {
    "name": "ipython",
    "version": 3
   },
   "file_extension": ".py",
   "mimetype": "text/x-python",
   "name": "python",
   "nbconvert_exporter": "python",
   "pygments_lexer": "ipython3",
   "version": "3.9.12"
  }
 },
 "nbformat": 4,
 "nbformat_minor": 5
}
